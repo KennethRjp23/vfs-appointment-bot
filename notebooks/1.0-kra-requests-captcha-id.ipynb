{
 "cells": [
  {
   "cell_type": "code",
   "execution_count": 1,
   "metadata": {
    "collapsed": true,
    "ExecuteTime": {
     "start_time": "2023-05-14T19:24:43.976841Z",
     "end_time": "2023-05-14T19:24:44.015246Z"
    }
   },
   "outputs": [],
   "source": [
    "from twocaptcha import TwoCaptcha"
   ]
  },
  {
   "cell_type": "code",
   "execution_count": 2,
   "outputs": [],
   "source": [
    "api_key = '9178c29c87c5b9bac9917779a69faa99'\n",
    "solver = TwoCaptcha(api_key)\n",
    "google_key = '6LfDUY8bAAAAAPU5MWGT_w0x5M-8RdzC29SClOfI'\n",
    "page_url = 'https://visa.vfsglobal.com/gbr/en/prt/login'"
   ],
   "metadata": {
    "collapsed": false,
    "ExecuteTime": {
     "start_time": "2023-05-14T19:24:48.203562Z",
     "end_time": "2023-05-14T19:24:48.205381Z"
    }
   }
  },
  {
   "cell_type": "code",
   "execution_count": 5,
   "outputs": [],
   "source": [
    "solver = TwoCaptcha(api_key)\n",
    "\n",
    "result = solver.recaptcha( sitekey='6LfDxboZAAAAAD6GHukjvUy6lszoeG3H4nQW57b6', url='https://2captcha.com/demo/recaptcha-v2-invisible?level=low')"
   ],
   "metadata": {
    "collapsed": false,
    "ExecuteTime": {
     "start_time": "2023-05-14T19:25:51.961878Z",
     "end_time": "2023-05-14T19:26:44.230839Z"
    }
   }
  },
  {
   "cell_type": "code",
   "execution_count": 9,
   "outputs": [
    {
     "data": {
      "text/plain": "{'captchaId': '73594885762',\n 'code': '03AL8dmw8OZG9YyY1IEN1N_fm8gUffUE8xPWCD8rpv2UQp_4SQVsBl-LbdDzoXT6rs4CvlMcsFO1ALXlIqqOVMHWqKbEnV3U9PiGrfzSHokhWcNtAqJlc5CDGCL78FEyMlK0Hg6zefGjLq3M9nBkoCZ32QRAWWAZpISwF9_sKHmxpz68j6CZhvaWn8ZpaNKAu4zZOXA0csFXZbLu5iS-1Ee6tPv2SaSPard0nkW7cJ6x56jiS7QINij76yG0bIiBOFf5TS2VXH8nyegjWsE4N9A_7rcU4vi9s3_B5e4eK95wUj8T2sX-JvpS3yedOXikOFLRlJK0RX8qoB9Y2-zK_aLxj5HaAmP8t2wI2TGN5hRQswiCKkxl4wYt1UkQZI9_shL7WXeIplVX0sRpWSPYng-t4FB4XGKEWmQVyQrQwrhxxquiKn4Ais9OdUiVf6m8Kd3KAONDDNHcR6FeAlzMPrYAkTuZ-FReErqaw4mdmKNVUc3goVXo3l1wRL2hEcDzRmtHWFQhaFE-ipzLKMKBlhiiHUTc2Msh4pwzUkQ6jgit1Y7SwdGVWDtPRlkiS9VGsHa0Q74aygQnA04eqbGE_Kbw9SWsOOtbzkBt3R_0fIRJQhZxsR1nFZZahdZ06oFBfC50aBXm1mdsEV'}"
     },
     "execution_count": 9,
     "metadata": {},
     "output_type": "execute_result"
    }
   ],
   "source": [
    "result\n"
   ],
   "metadata": {
    "collapsed": false,
    "ExecuteTime": {
     "start_time": "2023-05-14T19:27:31.157169Z",
     "end_time": "2023-05-14T19:27:31.159123Z"
    }
   }
  },
  {
   "cell_type": "code",
   "execution_count": 10,
   "outputs": [
    {
     "data": {
      "text/plain": "'03AL8dmw8OZG9YyY1IEN1N_fm8gUffUE8xPWCD8rpv2UQp_4SQVsBl-LbdDzoXT6rs4CvlMcsFO1ALXlIqqOVMHWqKbEnV3U9PiGrfzSHokhWcNtAqJlc5CDGCL78FEyMlK0Hg6zefGjLq3M9nBkoCZ32QRAWWAZpISwF9_sKHmxpz68j6CZhvaWn8ZpaNKAu4zZOXA0csFXZbLu5iS-1Ee6tPv2SaSPard0nkW7cJ6x56jiS7QINij76yG0bIiBOFf5TS2VXH8nyegjWsE4N9A_7rcU4vi9s3_B5e4eK95wUj8T2sX-JvpS3yedOXikOFLRlJK0RX8qoB9Y2-zK_aLxj5HaAmP8t2wI2TGN5hRQswiCKkxl4wYt1UkQZI9_shL7WXeIplVX0sRpWSPYng-t4FB4XGKEWmQVyQrQwrhxxquiKn4Ais9OdUiVf6m8Kd3KAONDDNHcR6FeAlzMPrYAkTuZ-FReErqaw4mdmKNVUc3goVXo3l1wRL2hEcDzRmtHWFQhaFE-ipzLKMKBlhiiHUTc2Msh4pwzUkQ6jgit1Y7SwdGVWDtPRlkiS9VGsHa0Q74aygQnA04eqbGE_Kbw9SWsOOtbzkBt3R_0fIRJQhZxsR1nFZZahdZ06oFBfC50aBXm1mdsEV'"
     },
     "execution_count": 10,
     "metadata": {},
     "output_type": "execute_result"
    }
   ],
   "source": [
    "result['code']"
   ],
   "metadata": {
    "collapsed": false,
    "ExecuteTime": {
     "start_time": "2023-05-14T19:46:30.124427Z",
     "end_time": "2023-05-14T19:46:30.129742Z"
    }
   }
  },
  {
   "cell_type": "code",
   "execution_count": null,
   "outputs": [],
   "source": [],
   "metadata": {
    "collapsed": false
   }
  }
 ],
 "metadata": {
  "kernelspec": {
   "display_name": "Python 3",
   "language": "python",
   "name": "python3"
  },
  "language_info": {
   "codemirror_mode": {
    "name": "ipython",
    "version": 2
   },
   "file_extension": ".py",
   "mimetype": "text/x-python",
   "name": "python",
   "nbconvert_exporter": "python",
   "pygments_lexer": "ipython2",
   "version": "2.7.6"
  }
 },
 "nbformat": 4,
 "nbformat_minor": 0
}
