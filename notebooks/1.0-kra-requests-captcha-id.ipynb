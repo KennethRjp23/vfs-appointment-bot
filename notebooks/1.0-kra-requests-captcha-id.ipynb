{
 "cells": [
  {
   "cell_type": "code",
   "execution_count": 1,
   "metadata": {
    "collapsed": true,
    "ExecuteTime": {
     "start_time": "2023-05-14T19:24:43.976841Z",
     "end_time": "2023-05-14T19:24:44.015246Z"
    }
   },
   "outputs": [],
   "source": [
    "from twocaptcha import TwoCaptcha"
   ]
  },
  {
   "cell_type": "code",
   "execution_count": 2,
   "outputs": [],
   "source": [
    "api_key = '9178c29c87c5b9bac9917779a69faa99'\n",
    "solver = TwoCaptcha(api_key)\n",
    "google_key = '6LfDUY8bAAAAAPU5MWGT_w0x5M-8RdzC29SClOfI'\n",
    "page_url = 'https://visa.vfsglobal.com/gbr/en/prt/login'"
   ],
   "metadata": {
    "collapsed": false,
    "ExecuteTime": {
     "start_time": "2023-05-14T19:24:48.203562Z",
     "end_time": "2023-05-14T19:24:48.205381Z"
    }
   }
  },
  {
   "cell_type": "code",
   "execution_count": 5,
   "outputs": [],
   "source": [
    "solver = TwoCaptcha(api_key)\n",
    "\n",
    "result = solver.recaptcha(sitekey='6LfDxboZAAAAAD6GHukjvUy6lszoeG3H4nQW57b6',\n",
    "                          url='https://2captcha.com/demo/recaptcha-v2-invisible?level=low')"
   ],
   "metadata": {
    "collapsed": false,
    "ExecuteTime": {
     "start_time": "2023-05-14T19:25:51.961878Z",
     "end_time": "2023-05-14T19:26:44.230839Z"
    }
   }
  },
  {
   "cell_type": "code",
   "execution_count": 9,
   "outputs": [
    {
     "data": {
      "text/plain": "{'captchaId': '73594885762',\n 'code': '03AL8dmw8OZG9YyY1IEN1N_fm8gUffUE8xPWCD8rpv2UQp_4SQVsBl-LbdDzoXT6rs4CvlMcsFO1ALXlIqqOVMHWqKbEnV3U9PiGrfzSHokhWcNtAqJlc5CDGCL78FEyMlK0Hg6zefGjLq3M9nBkoCZ32QRAWWAZpISwF9_sKHmxpz68j6CZhvaWn8ZpaNKAu4zZOXA0csFXZbLu5iS-1Ee6tPv2SaSPard0nkW7cJ6x56jiS7QINij76yG0bIiBOFf5TS2VXH8nyegjWsE4N9A_7rcU4vi9s3_B5e4eK95wUj8T2sX-JvpS3yedOXikOFLRlJK0RX8qoB9Y2-zK_aLxj5HaAmP8t2wI2TGN5hRQswiCKkxl4wYt1UkQZI9_shL7WXeIplVX0sRpWSPYng-t4FB4XGKEWmQVyQrQwrhxxquiKn4Ais9OdUiVf6m8Kd3KAONDDNHcR6FeAlzMPrYAkTuZ-FReErqaw4mdmKNVUc3goVXo3l1wRL2hEcDzRmtHWFQhaFE-ipzLKMKBlhiiHUTc2Msh4pwzUkQ6jgit1Y7SwdGVWDtPRlkiS9VGsHa0Q74aygQnA04eqbGE_Kbw9SWsOOtbzkBt3R_0fIRJQhZxsR1nFZZahdZ06oFBfC50aBXm1mdsEV'}"
     },
     "execution_count": 9,
     "metadata": {},
     "output_type": "execute_result"
    }
   ],
   "source": [
    "result\n"
   ],
   "metadata": {
    "collapsed": false,
    "ExecuteTime": {
     "start_time": "2023-05-14T19:27:31.157169Z",
     "end_time": "2023-05-14T19:27:31.159123Z"
    }
   }
  },
  {
   "cell_type": "code",
   "execution_count": 10,
   "outputs": [
    {
     "data": {
      "text/plain": "'03AL8dmw8OZG9YyY1IEN1N_fm8gUffUE8xPWCD8rpv2UQp_4SQVsBl-LbdDzoXT6rs4CvlMcsFO1ALXlIqqOVMHWqKbEnV3U9PiGrfzSHokhWcNtAqJlc5CDGCL78FEyMlK0Hg6zefGjLq3M9nBkoCZ32QRAWWAZpISwF9_sKHmxpz68j6CZhvaWn8ZpaNKAu4zZOXA0csFXZbLu5iS-1Ee6tPv2SaSPard0nkW7cJ6x56jiS7QINij76yG0bIiBOFf5TS2VXH8nyegjWsE4N9A_7rcU4vi9s3_B5e4eK95wUj8T2sX-JvpS3yedOXikOFLRlJK0RX8qoB9Y2-zK_aLxj5HaAmP8t2wI2TGN5hRQswiCKkxl4wYt1UkQZI9_shL7WXeIplVX0sRpWSPYng-t4FB4XGKEWmQVyQrQwrhxxquiKn4Ais9OdUiVf6m8Kd3KAONDDNHcR6FeAlzMPrYAkTuZ-FReErqaw4mdmKNVUc3goVXo3l1wRL2hEcDzRmtHWFQhaFE-ipzLKMKBlhiiHUTc2Msh4pwzUkQ6jgit1Y7SwdGVWDtPRlkiS9VGsHa0Q74aygQnA04eqbGE_Kbw9SWsOOtbzkBt3R_0fIRJQhZxsR1nFZZahdZ06oFBfC50aBXm1mdsEV'"
     },
     "execution_count": 10,
     "metadata": {},
     "output_type": "execute_result"
    }
   ],
   "source": [
    "result['code']"
   ],
   "metadata": {
    "collapsed": false,
    "ExecuteTime": {
     "start_time": "2023-05-14T19:46:30.124427Z",
     "end_time": "2023-05-14T19:46:30.129742Z"
    }
   }
  },
  {
   "cell_type": "code",
   "execution_count": 2,
   "outputs": [
    {
     "name": "stdout",
     "output_type": "stream",
     "text": [
      "solved: {'captchaId': '73606608916', 'code': '03AL8dmw9XAzE_TTvg1_pjhPA5kM8dXxLM3teZJynG0zFc6hvcKiBBKB2-zXPv22gBo62aMrszPZODe8bM3UXdp7OAecLk6QUk7239ixkElxreoy7JQmdG3AW1hIOTJvPN5njIqrrkTsyhHKUhLgbbOacAZ5lvDrPiA9ZlK9Z3RrSnyjfTbT7sZTnO3wjPoBwJub7Rs6l1LE9Q4BaLVnEzjgK1EUskWLRYKX-FgjMEjRCoyeXEA4GDWsb6xuMhq-mh4CSngneJqgcpkRMbQo56pPlEP0N8ZzO2ntrioD2X33whsbv9zRb23hyzbO5xE00KZK17RWsmXrIDmWEMWlmdNIQfQRjYN8vBk2Fqqo4vVvCF9OTGfUrcswabo5o8NizfhAd601mwqF-zNZXMEimyJBDJcuMD5ZMDt_JTri4RfdbgqlmRsFRYVcBQ34doONKZwrN70Ox9w0FrNePIwZA75ChGqb-UXSiMOuSQSDVhNm-sxZ3X_rRAVldRVia0cA219coLeP_YacxTJ2ge7Oxi23ATwZ4Ypv8YvIVLjfu-AlCidy55fYh9k80ykV_ChECb4bAOPrNUVPQULbW1HfBi-bT0Ss_JqETzghUvHvtoziSYZ3hR-CQt_u6WRt-xdeP8bJIMa1hFuNAR'}\n"
     ]
    }
   ],
   "source": [
    "# https://github.com/2captcha/2captcha-python\n",
    "\n",
    "from twocaptcha import TwoCaptcha\n",
    "\n",
    "api_key = '9178c29c87c5b9bac9917779a69faa99'\n",
    "solver = TwoCaptcha(api_key)\n",
    "\n",
    "try:\n",
    "    result = solver.recaptcha(\n",
    "        sitekey='6LfD3PIbAAAAAJs_eEHvoOl75_83eXSqpPSRFJ_u',\n",
    "        url='https://2captcha.com/demo/recaptcha-v2-callback')\n",
    "\n",
    "except Exception as e:\n",
    "    print(e)\n",
    "\n",
    "else:\n",
    "    print('solved: ' + str(result))"
   ],
   "metadata": {
    "collapsed": false,
    "ExecuteTime": {
     "start_time": "2023-05-16T07:14:23.136040Z",
     "end_time": "2023-05-16T07:15:04.500341Z"
    }
   }
  },
  {
   "cell_type": "code",
   "execution_count": 3,
   "outputs": [
    {
     "name": "stdout",
     "output_type": "stream",
     "text": [
      "{'captchaId': '73606741580', 'code': '03AL8dmw9y4Ydrw5083GLyDFW4Sh2TRXSpDQwHV5a_mGxa4orai7Wsez73WTA5LEh9WOQ15nyxyvN783lf_Zj7Uc_8Q-Wqh5STHECIvzjA8VkEIv6mKrg7jKLVJvvAzMg0UK4uMMGS4VIUCPOlaMSMeOfkVAR8zVsRQjj5YJJhSt2kUkZGioZcs_cZzPThjnwmuCxVLNwz_j7dFNdM-4vZ1ELH99TEJaYvEstqDgCWxaII-Cr-VZw5q1BvtG-vXbBc5zbcjNGfXW2HXkw0ms_gNICigiVnx4dILN-SxvYHFPLnUQneJkXd0VH_LvpFGDXp9TEaRQPeeSwm3HxOELplDqibTrCqK6xq5BVfxmqPIYFSJBG2BD5Qvslf0CaqzDxma6WL3zI-4YECmfCb2AeYanXpKxo57aQa5ZOBZer6pKgPJ899gYXywDjClhykWVkEp_rFcZHLLyuPHsKSaWb97JRV-hZC4TdeHAhzpe0WcZSHoVPXNAoxR5pIP_7wkSxJiQDthCSgE3fGsb9AExFu9Gw4uc9uX4yfJo1QCN1yNQ40U-nKYgeWsp92qVufe5rld6OOClnWNzXELQREQz__uVaBlP_LCPGtSaPSRd3Yt_3wEYhu1r5eoVROw1CMIT0BQmFrtQv_tLCD'}\n"
     ]
    }
   ],
   "source": [
    "solver = TwoCaptcha('9178c29c87c5b9bac9917779a69faa99')\n",
    "result = solver.recaptcha(\n",
    "    sitekey='6LfDUY8bAAAAAPU5MWGT_w0x5M-8RdzC29SClOfI',\n",
    "    url='https://visa.vfsglobal.com/gbr/en/prt/login')\n",
    "print(str(result))"
   ],
   "metadata": {
    "collapsed": false,
    "ExecuteTime": {
     "start_time": "2023-05-16T07:37:33.370425Z",
     "end_time": "2023-05-16T07:37:44.054108Z"
    }
   }
  },
  {
   "cell_type": "code",
   "execution_count": null,
   "outputs": [],
   "source": [
    "03AL8dmw9y4Ydrw5083GLyDFW4Sh2TRXSpDQwHV5a_mGxa4orai7Wsez73WTA5LEh9WOQ15nyxyvN783lf_Zj7Uc_8Q-Wqh5STHECIvzjA8VkEIv6mKrg7jKLVJvvAzMg0UK4uMMGS4VIUCPOlaMSMeOfkVAR8zVsRQjj5YJJhSt2kUkZGioZcs_cZzPThjnwmuCxVLNwz_j7dFNdM-4vZ1ELH99TEJaYvEstqDgCWxaII-Cr-VZw5q1BvtG-vXbBc5zbcjNGfXW2HXkw0ms_gNICigiVnx4dILN-SxvYHFPLnUQneJkXd0VH_LvpFGDXp9TEaRQPeeSwm3HxOELplDqibTrCqK6xq5BVfxmqPIYFSJBG2BD5Qvslf0CaqzDxma6WL3zI-4YECmfCb2AeYanXpKxo57aQa5ZOBZer6pKgPJ899gYXywDjClhykWVkEp_rFcZHLLyuPHsKSaWb97JRV-hZC4TdeHAhzpe0WcZSHoVPXNAoxR5pIP_7wkSxJiQDthCSgE3fGsb9AExFu9Gw4uc9uX4yfJo1QCN1yNQ40U-nKYgeWsp92qVufe5rld6OOClnWNzXELQREQz__uVaBlP_LCPGtSaPSRd3Yt_3wEYhu1r5eoVROw1CMIT0BQmFrtQv_tLCD"
   ],
   "metadata": {
    "collapsed": false
   }
  },
  {
   "cell_type": "code",
   "execution_count": null,
   "outputs": [],
   "source": [
    "<input type = \"submit\" value = \"send\">"
   ],
   "metadata": {
    "collapsed": false
   }
  }
 ],
 "metadata": {
  "kernelspec": {
   "display_name": "Python 3",
   "language": "python",
   "name": "python3"
  },
  "language_info": {
   "codemirror_mode": {
    "name": "ipython",
    "version": 2
   },
   "file_extension": ".py",
   "mimetype": "text/x-python",
   "name": "python",
   "nbconvert_exporter": "python",
   "pygments_lexer": "ipython2",
   "version": "2.7.6"
  }
 },
 "nbformat": 4,
 "nbformat_minor": 0
}
